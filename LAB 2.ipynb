{
 "cells": [
  {
   "cell_type": "markdown",
   "metadata": {},
   "source": [
    "aa"
   ]
  },
  {
   "cell_type": "markdown",
   "metadata": {},
   "source": [
    "# Question 2 - Generating n by n Matrix"
   ]
  },
  {
   "cell_type": "code",
   "execution_count": 1,
   "metadata": {},
   "outputs": [],
   "source": [
    "import matplotlib.pyplot as plt\n",
    "import numpy as np"
   ]
  },
  {
   "cell_type": "code",
   "execution_count": 2,
   "metadata": {},
   "outputs": [],
   "source": [
    "#Generate n by n matrix with every element is in range of (-1,1)\n",
    "def generateMat(n):\n",
    "    A = np.random.uniform(-1,1,(n,n))\n",
    "    return A"
   ]
  },
  {
   "cell_type": "markdown",
   "metadata": {},
   "source": [
    "Testing generating matrices\n",
    "\n",
    "CASE 1: 3 by 3 matrix"
   ]
  },
  {
   "cell_type": "code",
   "execution_count": 3,
   "metadata": {},
   "outputs": [
    {
     "data": {
      "text/plain": [
       "array([[-0.24305852, -0.58573764,  0.58270736],\n",
       "       [ 0.14627673, -0.16522578,  0.10735327],\n",
       "       [ 0.55809359, -0.27896141, -0.95524724]])"
      ]
     },
     "execution_count": 3,
     "metadata": {},
     "output_type": "execute_result"
    }
   ],
   "source": [
    "generateMat(3)"
   ]
  },
  {
   "cell_type": "markdown",
   "metadata": {},
   "source": [
    "CASE 2: 5 by 5 matrix"
   ]
  },
  {
   "cell_type": "code",
   "execution_count": 4,
   "metadata": {},
   "outputs": [
    {
     "data": {
      "text/plain": [
       "array([[-0.12123267, -0.58494122,  0.54569199, -0.39129302, -0.94961931],\n",
       "       [ 0.8626257 , -0.86276036, -0.43924319,  0.74244464,  0.98521456],\n",
       "       [ 0.47492763, -0.20120397, -0.2389879 , -0.09075905,  0.61336079],\n",
       "       [-0.44391824, -0.24737418, -0.02615063, -0.76780324, -0.40557353],\n",
       "       [ 0.01616841,  0.87725051,  0.46770321, -0.09106849,  0.52911537]])"
      ]
     },
     "execution_count": 4,
     "metadata": {},
     "output_type": "execute_result"
    }
   ],
   "source": [
    "generateMat(5)"
   ]
  },
  {
   "cell_type": "markdown",
   "metadata": {},
   "source": [
    "# Question 3 - Implementing Gaussian Elimination with partial pivoting"
   ]
  },
  {
   "cell_type": "code",
   "execution_count": 5,
   "metadata": {},
   "outputs": [],
   "source": [
    "#Gaussian Elimination with partial pivoting\n",
    "def GEPP(B):\n",
    "    n = len(B)\n",
    "    # Do this for all k, k in 0 to n-1\n",
    "    for k in range (0,n-1):\n",
    "        #k-th pivot\n",
    "        ##print (\"%sth row pivot\" % k)\n",
    "        max = abs(B[k][k])\n",
    "        j = k\n",
    "        for i in range (k+1,n):\n",
    "            if (max < abs(B[i][k])):\n",
    "                max = abs(B[i][k])\n",
    "                j = i\n",
    "        #swap rows\n",
    "        if (k!=j):\n",
    "            ##print (\"%sth row is swapped\" % j)\n",
    "            B[[j,k]]=B[[k,j]]\n",
    "        ##else:\n",
    "            ##print (\"no swapping is done\")\n",
    "        ##for b in range(0,n):\n",
    "            ##print(B[b])\n",
    "        #elimination\n",
    "        ## print (\"elimination\")\n",
    "        for i in range (k+1,n):\n",
    "            m = B[i][k]/B[k][k]\n",
    "            for j in range (k+1,n):\n",
    "                B[i][j] = B[i][j]-B[k][j]*m\n",
    "            B[i][k] = 0"
   ]
  },
  {
   "cell_type": "code",
   "execution_count": 6,
   "metadata": {},
   "outputs": [],
   "source": [
    "#Print matrix\n",
    "def printMat(A):\n",
    "    n = len(A)\n",
    "    for b in range(0,n):\n",
    "        print(A[b])"
   ]
  },
  {
   "cell_type": "markdown",
   "metadata": {},
   "source": [
    "Testing Gaussian Elimination of n by n matrices\n",
    "\n",
    "CASE 1: n = 4"
   ]
  },
  {
   "cell_type": "code",
   "execution_count": 7,
   "metadata": {},
   "outputs": [
    {
     "name": "stdout",
     "output_type": "stream",
     "text": [
      "4 by 4 Matrix A is\n",
      "[-0.90721661 -0.02742816 -0.2510241  -0.7619461 ]\n",
      "[ 0.57297506 -0.00518523  0.36253714  0.10710743]\n",
      "[-0.37169163  0.13023187  0.16199851  0.76467758]\n",
      "[0.91710865 0.31643166 0.7242166  0.7739728 ]\n",
      "After applying GEPP to A\n",
      "[0.91710865 0.31643166 0.7242166  0.7739728 ]\n",
      "[0.         0.28559042 0.46538101 0.00367853]\n",
      "[ 0.          0.          0.24067462 -0.37382854]\n",
      "[0.         0.         0.         1.12832802]\n"
     ]
    }
   ],
   "source": [
    "#Generate 4 by 4 matrix\n",
    "n = 4\n",
    "print('%d by %d Matrix A is' % (n, n))\n",
    "A=generateMat(n)\n",
    "printMat(A)\n",
    "#Apply GEPP to A\n",
    "print('After applying GEPP to A')\n",
    "GEPP(A)\n",
    "printMat(A)"
   ]
  },
  {
   "cell_type": "markdown",
   "metadata": {},
   "source": [
    "CASE 2: n = 7"
   ]
  },
  {
   "cell_type": "code",
   "execution_count": 8,
   "metadata": {},
   "outputs": [
    {
     "name": "stdout",
     "output_type": "stream",
     "text": [
      "7 by 7 Matrix A is\n",
      "[ 0.73126095  0.64498707 -0.08234226 -0.86086044 -0.80804201 -0.32014692\n",
      "  0.5310596 ]\n",
      "[ 0.46997799  0.79300949 -0.06740895  0.3603175   0.41627598 -0.09554662\n",
      "  0.56736017]\n",
      "[ 0.94079695  0.3395945  -0.63331406 -0.13334729  0.44685505 -0.61138727\n",
      "  0.30020565]\n",
      "[ 0.92359146 -0.67286564 -0.91169015 -0.82710099  0.51601406  0.99532405\n",
      " -0.23066425]\n",
      "[-0.99228303  0.74729159 -0.41125214  0.11297196 -0.20691487  0.64596414\n",
      "  0.22252622]\n",
      "[ 0.73653602  0.32443991 -0.41710485 -0.76640709 -0.30648131 -0.20252611\n",
      " -0.41764733]\n",
      "[ 0.06425587  0.58703151 -0.71014831 -0.42117169  0.26739858  0.37711797\n",
      "  0.81811498]\n",
      "After applying GEPP to A\n",
      "[-0.99228303  0.74729159 -0.41125214  0.11297196 -0.20691487  0.64596414\n",
      "  0.22252622]\n",
      "[ 0.          1.19570208 -0.38541369 -0.77760598 -0.9605275   0.15589503\n",
      "  0.69504985]\n",
      "[ 0.          0.         -1.28715798 -0.70719085  0.34165359  1.59361198\n",
      " -0.03673444]\n",
      "[0.         0.         0.         1.10065931 1.26817575 0.19396878\n",
      " 0.00297615]\n",
      "[ 0.          0.          0.          0.          0.28720548 -0.37391027\n",
      "  0.4775529 ]\n",
      "[ 0.          0.          0.          0.          0.         -1.52832816\n",
      "  0.38143251]\n",
      "[ 0.          0.          0.          0.          0.          0.\n",
      " -0.82466306]\n"
     ]
    }
   ],
   "source": [
    "#Generate 7 by 7 matrix\n",
    "n = 7\n",
    "print('%d by %d Matrix A is' % (n, n))\n",
    "A=generateMat(n)\n",
    "printMat(A)\n",
    "#Apply GEPP to A\n",
    "print('After applying GEPP to A')\n",
    "GEPP(A)\n",
    "printMat(A)"
   ]
  },
  {
   "cell_type": "markdown",
   "metadata": {},
   "source": [
    "# Question 4 - Plotting growth factor vs matrix size"
   ]
  },
  {
   "cell_type": "markdown",
   "metadata": {},
   "source": [
    "Given the factorization $PA=LU$, the growth factor is defined as\n",
    "$$ g(A)= \\frac{max_{i,j}|u_{ij}|}{max_{i,j}|a_{ij}|} $$\n",
    "where $ u_{ij}$ and $a_{ij}$ are the elements of $U$ and $A$ respectively."
   ]
  },
  {
   "cell_type": "markdown",
   "metadata": {},
   "source": [
    "To calculate $g(A)$ we first need to generate a matrix. Inspect every abosulte value of elements and find ${max_{i,j}|a_{ij}|}$.\n",
    "Then, apply Gaussian elimination. Now, we can find ${max_{i,j}|u_{ij}|}$ and apply it on $\\frac{max_{i,j}|u_{ij}|}{max_{i,j}|a_{ij}|}$ to find $g(A)$"
   ]
  },
  {
   "cell_type": "code",
   "execution_count": 9,
   "metadata": {},
   "outputs": [],
   "source": [
    "#Growth Factor function with parameter n\n",
    "def growF(n):\n",
    "    B = generateMat(n)\n",
    "    a = abs(B).max()\n",
    "    GEPP(B)\n",
    "    u = abs(B).max()\n",
    "    g = u/a\n",
    "    return g"
   ]
  },
  {
   "cell_type": "markdown",
   "metadata": {},
   "source": [
    "Example: Find a growth factor of a 4 by 4 matrix"
   ]
  },
  {
   "cell_type": "code",
   "execution_count": 10,
   "metadata": {},
   "outputs": [
    {
     "data": {
      "text/plain": [
       "1.0"
      ]
     },
     "execution_count": 10,
     "metadata": {},
     "output_type": "execute_result"
    }
   ],
   "source": [
    "growF(4)"
   ]
  },
  {
   "cell_type": "markdown",
   "metadata": {},
   "source": [
    "Now, we are going to plot growth factor vs matrix size.\n",
    "\n",
    "The x-axis represents the matrix size n\n",
    "\n",
    "The y-axis represents the growth facor of a n by n matrix in logarithmic scale"
   ]
  },
  {
   "cell_type": "code",
   "execution_count": 11,
   "metadata": {},
   "outputs": [
    {
     "data": {
      "image/png": "[encoded data removed]",
      "text/plain": [
       "<matplotlib.figure.Figure at 0x22f0104ba90>"
      ]
     },
     "metadata": {},
     "output_type": "display_data"
    }
   ],
   "source": [
    "x = np.arange(10,200,10)\n",
    "y = []\n",
    "for k in range(10,200,10):\n",
    "    y.append(growF(k))\n",
    "plt.plot(x,np.log(y))\n",
    "plt.xlabel('matrix size n')\n",
    "plt.ylabel('log (Growth Factor)')\n",
    "plt.show()"
   ]
  },
  {
   "cell_type": "markdown",
   "metadata": {},
   "source": [
    "If $g{\\approx}cn^\\alpha$, then $$\\log(g){\\approx}\\log(cn^\\alpha)=\\log(c)+\\alpha \\log(n)=C+\\alpha \\log(n)$$\n",
    "\n",
    "So, $\\alpha$ is the slope of $\\log(g)$ vs $\\log(n)$ plot.\n",
    "\n",
    "Now, plot $\\log(g)$ vs $\\log(n)$ to find a approximated $\\alpha$"
   ]
  },
  {
   "cell_type": "code",
   "execution_count": 12,
   "metadata": {},
   "outputs": [
    {
     "data": {
      "image/png": "[encoded data removed]",
      "text/plain": [
       "<matplotlib.figure.Figure at 0x22f0104be10>"
      ]
     },
     "metadata": {},
     "output_type": "display_data"
    }
   ],
   "source": [
    "x = np.arange(10,200,10)\n",
    "z = np.log(x)\n",
    "y = []\n",
    "for k in range(10,200,10):\n",
    "    y.append(growF(k))\n",
    "plt.plot(z,np.log(y))\n",
    "plt.plot(z,z)\n",
    "plt.xlabel('log (n)')\n",
    "plt.ylabel('log (Growth Factor)')\n",
    "plt.show()"
   ]
  },
  {
   "cell_type": "markdown",
   "metadata": {},
   "source": [
    "We clearly see that $\\alpha$ is less than 1.\n",
    "\n",
    "So, $cn^\\alpha<cn$.\n",
    "Compare this with the worst case scenario $g{\\approx}2^n$, since $n<2^n$ we see this estimation is better."
   ]
  },
  {
   "cell_type": "markdown",
   "metadata": {},
   "source": [
    "# Questino 5 - Probability distribution of the growth factor for a fixed n"
   ]
  },
  {
   "cell_type": "markdown",
   "metadata": {},
   "source": [
    "CASE 1 : n = 10"
   ]
  },
  {
   "cell_type": "code",
   "execution_count": 13,
   "metadata": {},
   "outputs": [
    {
     "data": {
      "image/png": "[encoded data removed]",
      "text/plain": [
       "<matplotlib.figure.Figure at 0x22f0104bf28>"
      ]
     },
     "metadata": {},
     "output_type": "display_data"
    }
   ],
   "source": [
    "n = 10\n",
    "y = []\n",
    "for x in range (0,1000):\n",
    "    y.append(growF(n))\n",
    "plt.hist(y ,bins=40)\n",
    "plt.title('Growh factor for a fixed n = 10')\n",
    "plt.yscale('log')\n",
    "plt.xlabel('Growth Factor')\n",
    "plt.ylabel('log(Frecuency)')\n",
    "plt.show()"
   ]
  },
  {
   "cell_type": "markdown",
   "metadata": {},
   "source": [
    "Case 2 : n = 16"
   ]
  },
  {
   "cell_type": "code",
   "execution_count": 14,
   "metadata": {},
   "outputs": [
    {
     "data": {
      "image/png": "[encoded data removed]",
      "text/plain": [
       "<matplotlib.figure.Figure at 0x22f015889b0>"
      ]
     },
     "metadata": {},
     "output_type": "display_data"
    }
   ],
   "source": [
    "n = 16\n",
    "y = []\n",
    "for x in range (0,1000):\n",
    "    y.append(growF(n))\n",
    "plt.hist(y ,bins=40)\n",
    "plt.title('Growh factor for a fixed n = 16')\n",
    "plt.yscale('log')\n",
    "plt.xlabel('Growth Factor')\n",
    "plt.ylabel('log(Frecuency)')\n",
    "plt.show()"
   ]
  },
  {
   "cell_type": "markdown",
   "metadata": {},
   "source": [
    "Case 3 : n = 20, 40, 80"
   ]
  },
  {
   "cell_type": "code",
   "execution_count": 15,
   "metadata": {},
   "outputs": [
    {
     "data": {
      "image/png": "[encoded data removed]",
      "text/plain": [
       "<matplotlib.figure.Figure at 0x22f01712940>"
      ]
     },
     "metadata": {},
     "output_type": "display_data"
    }
   ],
   "source": [
    "n = 20\n",
    "y = []\n",
    "for x in range (0,1000):\n",
    "    y.append(growF(n))\n",
    "plt.hist(y ,bins=40)\n",
    "plt.title('Growh factor for a fixed n = 20')\n",
    "plt.yscale('log')\n",
    "plt.xlabel('Growth Factor')\n",
    "plt.ylabel('log(Frecuency)')\n",
    "plt.show()"
   ]
  },
  {
   "cell_type": "code",
   "execution_count": null,
   "metadata": {},
   "outputs": [
    {
     "data": {
      "image/png": "[encoded data removed]",
      "text/plain": [
       "<matplotlib.figure.Figure at 0x22f01512278>"
      ]
     },
     "metadata": {},
     "output_type": "display_data"
    }
   ],
   "source": [
    "n = 40\n",
    "y = []\n",
    "for x in range (0,1000):\n",
    "    y.append(growF(n))\n",
    "plt.hist(y ,bins=40)\n",
    "plt.title('Growh factor for a fixed n = 40')\n",
    "plt.yscale('log')\n",
    "plt.xlabel('Growth Factor')\n",
    "plt.ylabel('log(Frecuency)')\n",
    "plt.show()"
   ]
  },
  {
   "cell_type": "code",
   "execution_count": null,
   "metadata": {},
   "outputs": [],
   "source": [
    "n = 80\n",
    "y = []\n",
    "for x in range (0,1000):\n",
    "    y.append(growF(n))\n",
    "plt.hist(y ,bins=40)\n",
    "plt.title('Growh factor for a fixed n = 80')\n",
    "plt.yscale('log')\n",
    "plt.xlabel('Growth Factor')\n",
    "plt.ylabel('log(Frecuency)')\n",
    "plt.show()"
   ]
  },
  {
   "cell_type": "markdown",
   "metadata": {},
   "source": [
    "# Question 6 - Repeat Q4, 5 for matrices whose entries are random numbers with a normal distribution"
   ]
  },
  {
   "cell_type": "markdown",
   "metadata": {},
   "source": [
    "I picked the parameters ($\\mu$ and $\\sigma$) at my convenience.\n",
    "$\\mu = 3$ and $\\sigma^2 =1$"
   ]
  },
  {
   "cell_type": "code",
   "execution_count": null,
   "metadata": {},
   "outputs": [],
   "source": [
    "mu = 3\n",
    "sigma = 1\n",
    "def newGenerateMat(n):\n",
    "    A = np.random.normal(mu,sigma,(n,n))\n",
    "    return A"
   ]
  },
  {
   "cell_type": "markdown",
   "metadata": {},
   "source": [
    "Test generating matrix with above entries.\n",
    "\n",
    "Case : $n = 5$"
   ]
  },
  {
   "cell_type": "code",
   "execution_count": null,
   "metadata": {},
   "outputs": [],
   "source": [
    "newGenerateMat(5)"
   ]
  },
  {
   "cell_type": "code",
   "execution_count": null,
   "metadata": {},
   "outputs": [],
   "source": [
    "#Growth Factor function with parameter n\n",
    "def newGrowF(n):\n",
    "    B = newGenerateMat(n)\n",
    "    a = abs(B).max()\n",
    "    GEPP(B)\n",
    "    u = abs(B).max()\n",
    "    g = u/a\n",
    "    return g"
   ]
  },
  {
   "cell_type": "code",
   "execution_count": null,
   "metadata": {},
   "outputs": [],
   "source": [
    "newGrowF(4)"
   ]
  },
  {
   "cell_type": "markdown",
   "metadata": {},
   "source": [
    "# Plotting growth factor vs matrix size"
   ]
  },
  {
   "cell_type": "code",
   "execution_count": null,
   "metadata": {},
   "outputs": [],
   "source": [
    "x = np.arange(10,200,10)\n",
    "z = np.log(x)\n",
    "y = []\n",
    "for k in range(10,200,10):\n",
    "    y.append(newGrowF(k))\n",
    "plt.plot(z,np.log(y))\n",
    "plt.plot(z,z)\n",
    "plt.xlabel('log (n)')\n",
    "plt.ylabel('log (Growth Factor)')\n",
    "plt.show()"
   ]
  },
  {
   "cell_type": "markdown",
   "metadata": {},
   "source": [
    "# Plotting Histogram"
   ]
  },
  {
   "cell_type": "markdown",
   "metadata": {},
   "source": [
    "CASE : $n = 10, 16, 20, 40, 80$"
   ]
  },
  {
   "cell_type": "code",
   "execution_count": null,
   "metadata": {},
   "outputs": [],
   "source": [
    "n = 10\n",
    "y = []\n",
    "for x in range (0,1000):\n",
    "    y.append(newGrowF(n))\n",
    "plt.hist(y ,bins=40)\n",
    "plt.title('New Growh factor for a fixed n = 10')\n",
    "plt.yscale('log')\n",
    "plt.xlabel('Growth Factor')\n",
    "plt.ylabel('log(Frecuency)')\n",
    "plt.show()"
   ]
  },
  {
   "cell_type": "code",
   "execution_count": null,
   "metadata": {},
   "outputs": [],
   "source": [
    "n = 16\n",
    "y = []\n",
    "for x in range (0,1000):\n",
    "    y.append(newGrowF(n))\n",
    "plt.hist(y ,bins=40)\n",
    "plt.title('New Growh factor for a fixed n = 16')\n",
    "plt.yscale('log')\n",
    "plt.xlabel('Growth Factor')\n",
    "plt.ylabel('log(Frecuency)')\n",
    "plt.show()"
   ]
  },
  {
   "cell_type": "code",
   "execution_count": null,
   "metadata": {},
   "outputs": [],
   "source": [
    "n = 20\n",
    "y = []\n",
    "for x in range (0,1000):\n",
    "    y.append(newGrowF(n))\n",
    "plt.hist(y ,bins=40)\n",
    "plt.title('New Growh factor for a fixed n = 20')\n",
    "plt.yscale('log')\n",
    "plt.xlabel('Growth Factor')\n",
    "plt.ylabel('log(Frecuency)')\n",
    "plt.show()"
   ]
  },
  {
   "cell_type": "code",
   "execution_count": null,
   "metadata": {},
   "outputs": [],
   "source": [
    "n = 40\n",
    "y = []\n",
    "for x in range (0,1000):\n",
    "    y.append(newGrowF(n))\n",
    "plt.hist(y ,bins=40)\n",
    "plt.title('New Growh factor for a fixed n = 40')\n",
    "plt.yscale('log')\n",
    "plt.xlabel('Growth Factor')\n",
    "plt.ylabel('log(Frecuency)')\n",
    "plt.show()"
   ]
  },
  {
   "cell_type": "code",
   "execution_count": null,
   "metadata": {},
   "outputs": [],
   "source": [
    "n = 80\n",
    "y = []\n",
    "for x in range (0,1000):\n",
    "    y.append(newGrowF(n))\n",
    "plt.hist(y ,bins=40)\n",
    "plt.title('New Growh factor for a fixed n = 80')\n",
    "plt.yscale('log')\n",
    "plt.xlabel('Growth Factor')\n",
    "plt.ylabel('log(Frecuency)')\n",
    "plt.show()"
   ]
  },
  {
   "cell_type": "code",
   "execution_count": null,
   "metadata": {},
   "outputs": [],
   "source": []
  }
 ],
 "metadata": {
  "kernelspec": {
   "display_name": "Python 3",
   "language": "python",
   "name": "python3"
  },
  "language_info": {
   "codemirror_mode": {
    "name": "ipython",
    "version": 3
   },
   "file_extension": ".py",
   "mimetype": "text/x-python",
   "name": "python",
   "nbconvert_exporter": "python",
   "pygments_lexer": "ipython3",
   "version": "3.6.4"
  }
 },
 "nbformat": 4,
 "nbformat_minor": 2
}

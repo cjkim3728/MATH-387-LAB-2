{
 "cells": [
  {
   "cell_type": "markdown",
   "metadata": {},
   "source": [
    "aa"
   ]
  },
  {
   "cell_type": "markdown",
   "metadata": {},
   "source": [
    "# Question 2 - Generating n by n Matrix"
   ]
  },
  {
   "cell_type": "code",
   "execution_count": 2,
   "metadata": {},
   "outputs": [],
   "source": [
    "import matplotlib.pyplot as plt\n",
    "import numpy as np"
   ]
  },
  {
   "cell_type": "code",
   "execution_count": 3,
   "metadata": {},
   "outputs": [],
   "source": [
    "#Generate n by n matrix with every element is in range of (-1,1)\n",
    "def generateMat(n):\n",
    "    A = np.random.uniform(-1,1,(n,n))\n",
    "    return A"
   ]
  },
  {
   "cell_type": "markdown",
   "metadata": {},
   "source": [
    "Testing generating matrices\n",
    "\n",
    "CASE 1: 3 by 3 matrix"
   ]
  },
  {
   "cell_type": "code",
   "execution_count": 4,
   "metadata": {},
   "outputs": [
    {
     "data": {
      "text/plain": [
       "array([[-0.35217051,  0.06671598,  0.3341366 ],\n",
       "       [ 0.54475309,  0.395486  ,  0.72950413],\n",
       "       [ 0.07743546,  0.45017551, -0.5267796 ]])"
      ]
     },
     "execution_count": 4,
     "metadata": {},
     "output_type": "execute_result"
    }
   ],
   "source": [
    "generateMat(3)"
   ]
  },
  {
   "cell_type": "markdown",
   "metadata": {},
   "source": [
    "CASE 2: 5 by 5 matrix"
   ]
  },
  {
   "cell_type": "code",
   "execution_count": 5,
   "metadata": {},
   "outputs": [
    {
     "data": {
      "text/plain": [
       "array([[-0.51343496, -0.74089094, -0.462304  ,  0.30923285, -0.1830017 ],\n",
       "       [ 0.34769666, -0.39601918, -0.20335511, -0.1913022 ,  0.79114358],\n",
       "       [ 0.97358905,  0.47458669, -0.21171705, -0.98665766,  0.37749496],\n",
       "       [ 0.43621089, -0.49869412,  0.7510291 ,  0.63877382,  0.61104159],\n",
       "       [ 0.56634639, -0.10883978,  0.85100642,  0.95672691, -0.98818263]])"
      ]
     },
     "execution_count": 5,
     "metadata": {},
     "output_type": "execute_result"
    }
   ],
   "source": [
    "generateMat(5)"
   ]
  },
  {
   "cell_type": "markdown",
   "metadata": {},
   "source": [
    "# Question 3 - Implementing Gaussian Elimination with partial pivoting"
   ]
  },
  {
   "cell_type": "code",
   "execution_count": 6,
   "metadata": {},
   "outputs": [],
   "source": [
    "#Gaussian Elimination with partial pivoting\n",
    "def GEPP(B):\n",
    "    n = len(B)\n",
    "    # Do this for all k, k in 0 to n-1\n",
    "    for k in range (0,n-1):\n",
    "        #k-th pivot\n",
    "        ##print (\"%sth row pivot\" % k)\n",
    "        max = abs(B[k][k])\n",
    "        j = k\n",
    "        for i in range (k+1,n):\n",
    "            if (max < abs(B[i][k])):\n",
    "                max = abs(B[i][k])\n",
    "                j = i\n",
    "        #swap rows\n",
    "        if (k!=j):\n",
    "            ##print (\"%sth row is swapped\" % j)\n",
    "            B[[j,k]]=B[[k,j]]\n",
    "        ##else:\n",
    "            ##print (\"no swapping is done\")\n",
    "        ##for b in range(0,n):\n",
    "            ##print(B[b])\n",
    "        #elimination\n",
    "        ## print (\"elimination\")\n",
    "        for i in range (k+1,n):\n",
    "            m = B[i][k]/B[k][k]\n",
    "            for j in range (k+1,n):\n",
    "                B[i][j] = B[i][j]-B[k][j]*m\n",
    "            B[i][k] = 0"
   ]
  },
  {
   "cell_type": "code",
   "execution_count": 7,
   "metadata": {},
   "outputs": [],
   "source": [
    "#Print matrix\n",
    "def printMat(A):\n",
    "    n = len(A)\n",
    "    for b in range(0,n):\n",
    "        print(A[b])"
   ]
  },
  {
   "cell_type": "markdown",
   "metadata": {},
   "source": [
    "Testing Gaussian Elimination of n by n matrices\n",
    "\n",
    "CASE 1: n = 4"
   ]
  },
  {
   "cell_type": "code",
   "execution_count": 8,
   "metadata": {},
   "outputs": [
    {
     "name": "stdout",
     "output_type": "stream",
     "text": [
      "4 by 4 Matrix A is\n",
      "[ 0.86605977 -0.83461152  0.40489755 -0.55920602]\n",
      "[-0.26474798 -0.81822045  0.36314753  0.24941384]\n",
      "[ 0.40083039 -0.32222245  0.68764603 -0.22190574]\n",
      "[-0.13219958  0.64330425  0.29365452 -0.14788108]\n",
      "After applying GEPP to A\n",
      "[ 0.86605977 -0.83461152  0.40489755 -0.55920602]\n",
      "[ 0.         -1.07335493  0.48692168  0.07846875]\n",
      "[ 0.          0.          0.58949761 -0.19552522]\n",
      "[0.         0.         0.         0.21715063]\n"
     ]
    }
   ],
   "source": [
    "#Generate 4 by 4 matrix\n",
    "n = 4\n",
    "print('%d by %d Matrix A is' % (n, n))\n",
    "A=generateMat(n)\n",
    "printMat(A)\n",
    "#Apply GEPP to A\n",
    "print('After applying GEPP to A')\n",
    "GEPP(A)\n",
    "printMat(A)"
   ]
  },
  {
   "cell_type": "markdown",
   "metadata": {},
   "source": [
    "CASE 2: n = 7"
   ]
  },
  {
   "cell_type": "code",
   "execution_count": 9,
   "metadata": {},
   "outputs": [
    {
     "name": "stdout",
     "output_type": "stream",
     "text": [
      "7 by 7 Matrix A is\n",
      "[ 0.9949938  -0.35024286 -0.49948092  0.47701463  0.71363159 -0.02201033\n",
      "  0.17883974]\n",
      "[-0.08271569  0.480117    0.01373549  0.61801228  0.39701598  0.54459995\n",
      " -0.74837618]\n",
      "[-0.1356872  -0.9186219   0.38873558  0.23458262 -0.89504736 -0.09002297\n",
      " -0.57076522]\n",
      "[ 0.69094223  0.57424822 -0.48666642 -0.75185702 -0.18637682  0.28580554\n",
      "  0.76758122]\n",
      "[ 0.120364    0.0501803  -0.8047393   0.6609558   0.25902507  0.87654441\n",
      "  0.95408234]\n",
      "[ 0.06386115 -0.9691012  -0.14046836 -0.67727821 -0.42850793 -0.43143699\n",
      "  0.99143038]\n",
      "[ 0.39360287  0.74313634 -0.40331147  0.21531543  0.60952049  0.06218279\n",
      " -0.36231473]\n",
      "After applying GEPP to A\n",
      "[ 0.9949938  -0.35024286 -0.49948092  0.47701463  0.71363159 -0.02201033\n",
      "  0.17883974]\n",
      "[ 0.         -0.96638448  0.32062142  0.29963306 -0.7977295  -0.09302451\n",
      " -0.54637687]\n",
      "[ 0.          0.         -0.71361192  0.6319469   0.09630012  0.87029819\n",
      "  0.88012256]\n",
      "[ 0.          0.          0.         -1.37552718  0.2500933  -0.85413925\n",
      "  0.99410204]\n",
      "[ 0.          0.          0.          0.         -1.46868992  0.8255649\n",
      " -0.17222981]\n",
      "[ 0.          0.          0.          0.          0.         -0.32221497\n",
      " -0.51458184]\n",
      "[ 0.          0.          0.          0.          0.          0.\n",
      " -0.58988749]\n"
     ]
    }
   ],
   "source": [
    "#Generate 7 by 7 matrix\n",
    "n = 7\n",
    "print('%d by %d Matrix A is' % (n, n))\n",
    "A=generateMat(n)\n",
    "printMat(A)\n",
    "#Apply GEPP to A\n",
    "print('After applying GEPP to A')\n",
    "GEPP(A)\n",
    "printMat(A)"
   ]
  },
  {
   "cell_type": "markdown",
   "metadata": {},
   "source": [
    "# Question 4 - Plotting growth factor vs matrix size"
   ]
  },
  {
   "cell_type": "markdown",
   "metadata": {},
   "source": [
    "Given the factorization $PA=LU$, the growth factor is defined as\n",
    "$$ g(A)= \\frac{max_{i,j}|u_{ij}|}{max_{i,j}|a_{ij}|} $$\n",
    "where $ u_{ij}$ and $a_{ij}$ are the elements of $U$ and $A$ respectively."
   ]
  },
  {
   "cell_type": "markdown",
   "metadata": {},
   "source": [
    "To calculate $g(A)$ we first need to generate a matrix. Inspect every abosulte value of elements and find ${max_{i,j}|a_{ij}|}$.\n",
    "Then, apply Gaussian elimination. Now, we can find ${max_{i,j}|u_{ij}|}$ and apply it on $\\frac{max_{i,j}|u_{ij}|}{max_{i,j}|a_{ij}|}$ to find $g(A)$"
   ]
  },
  {
   "cell_type": "code",
   "execution_count": 10,
   "metadata": {},
   "outputs": [],
   "source": [
    "#Growth Factor function with parameter n\n",
    "def growF(n):\n",
    "    B = generateMat(n)\n",
    "    a = abs(B).max()\n",
    "    GEPP(B)\n",
    "    u = abs(B).max()\n",
    "    g = u/a\n",
    "    return g"
   ]
  },
  {
   "cell_type": "markdown",
   "metadata": {},
   "source": [
    "Example: Find a growth factor of a 4 by 4 matrix"
   ]
  },
  {
   "cell_type": "code",
   "execution_count": 11,
   "metadata": {},
   "outputs": [
    {
     "data": {
      "text/plain": [
       "1.228919987527421"
      ]
     },
     "execution_count": 11,
     "metadata": {},
     "output_type": "execute_result"
    }
   ],
   "source": [
    "growF(4)"
   ]
  },
  {
   "cell_type": "markdown",
   "metadata": {},
   "source": [
    "Now, we are going to plot growth factor vs matrix size.\n",
    "\n",
    "The x-axis represents the matrix size n\n",
    "\n",
    "The y-axis represents the growth facor of a n by n matrix in logarithmic scale"
   ]
  },
  {
   "cell_type": "code",
   "execution_count": 36,
   "metadata": {},
   "outputs": [
    {
     "ename": "KeyboardInterrupt",
     "evalue": "",
     "output_type": "error",
     "traceback": [
      "\u001b[1;31m---------------------------------------------------------------------------\u001b[0m",
      "\u001b[1;31mKeyboardInterrupt\u001b[0m                         Traceback (most recent call last)",
      "\u001b[1;32m<ipython-input-36-3e3161da20f4>\u001b[0m in \u001b[0;36m<module>\u001b[1;34m()\u001b[0m\n\u001b[0;32m      2\u001b[0m \u001b[0my\u001b[0m \u001b[1;33m=\u001b[0m \u001b[1;33m[\u001b[0m\u001b[1;33m]\u001b[0m\u001b[1;33m\u001b[0m\u001b[0m\n\u001b[0;32m      3\u001b[0m \u001b[1;32mfor\u001b[0m \u001b[0mk\u001b[0m \u001b[1;32min\u001b[0m \u001b[0mrange\u001b[0m\u001b[1;33m(\u001b[0m\u001b[1;36m10\u001b[0m\u001b[1;33m,\u001b[0m\u001b[1;36m1000\u001b[0m\u001b[1;33m,\u001b[0m\u001b[1;36m10\u001b[0m\u001b[1;33m)\u001b[0m\u001b[1;33m:\u001b[0m\u001b[1;33m\u001b[0m\u001b[0m\n\u001b[1;32m----> 4\u001b[1;33m     \u001b[0my\u001b[0m\u001b[1;33m.\u001b[0m\u001b[0mappend\u001b[0m\u001b[1;33m(\u001b[0m\u001b[0mgrowF\u001b[0m\u001b[1;33m(\u001b[0m\u001b[0mk\u001b[0m\u001b[1;33m)\u001b[0m\u001b[1;33m)\u001b[0m\u001b[1;33m\u001b[0m\u001b[0m\n\u001b[0m\u001b[0;32m      5\u001b[0m \u001b[0mplt\u001b[0m\u001b[1;33m.\u001b[0m\u001b[0mplot\u001b[0m\u001b[1;33m(\u001b[0m\u001b[0mx\u001b[0m\u001b[1;33m,\u001b[0m\u001b[0mnp\u001b[0m\u001b[1;33m.\u001b[0m\u001b[0mlog\u001b[0m\u001b[1;33m(\u001b[0m\u001b[0my\u001b[0m\u001b[1;33m)\u001b[0m\u001b[1;33m)\u001b[0m\u001b[1;33m\u001b[0m\u001b[0m\n\u001b[0;32m      6\u001b[0m \u001b[0mplt\u001b[0m\u001b[1;33m.\u001b[0m\u001b[0mxlabel\u001b[0m\u001b[1;33m(\u001b[0m\u001b[1;34m'matrix size n'\u001b[0m\u001b[1;33m)\u001b[0m\u001b[1;33m\u001b[0m\u001b[0m\n",
      "\u001b[1;32m<ipython-input-10-f9607bc6a458>\u001b[0m in \u001b[0;36mgrowF\u001b[1;34m(n)\u001b[0m\n\u001b[0;32m      3\u001b[0m     \u001b[0mB\u001b[0m \u001b[1;33m=\u001b[0m \u001b[0mgenerateMat\u001b[0m\u001b[1;33m(\u001b[0m\u001b[0mn\u001b[0m\u001b[1;33m)\u001b[0m\u001b[1;33m\u001b[0m\u001b[0m\n\u001b[0;32m      4\u001b[0m     \u001b[0ma\u001b[0m \u001b[1;33m=\u001b[0m \u001b[0mabs\u001b[0m\u001b[1;33m(\u001b[0m\u001b[0mB\u001b[0m\u001b[1;33m)\u001b[0m\u001b[1;33m.\u001b[0m\u001b[0mmax\u001b[0m\u001b[1;33m(\u001b[0m\u001b[1;33m)\u001b[0m\u001b[1;33m\u001b[0m\u001b[0m\n\u001b[1;32m----> 5\u001b[1;33m     \u001b[0mGEPP\u001b[0m\u001b[1;33m(\u001b[0m\u001b[0mB\u001b[0m\u001b[1;33m)\u001b[0m\u001b[1;33m\u001b[0m\u001b[0m\n\u001b[0m\u001b[0;32m      6\u001b[0m     \u001b[0mu\u001b[0m \u001b[1;33m=\u001b[0m \u001b[0mabs\u001b[0m\u001b[1;33m(\u001b[0m\u001b[0mB\u001b[0m\u001b[1;33m)\u001b[0m\u001b[1;33m.\u001b[0m\u001b[0mmax\u001b[0m\u001b[1;33m(\u001b[0m\u001b[1;33m)\u001b[0m\u001b[1;33m\u001b[0m\u001b[0m\n\u001b[0;32m      7\u001b[0m     \u001b[0mg\u001b[0m \u001b[1;33m=\u001b[0m \u001b[0mu\u001b[0m\u001b[1;33m/\u001b[0m\u001b[0ma\u001b[0m\u001b[1;33m\u001b[0m\u001b[0m\n",
      "\u001b[1;32m<ipython-input-6-2ceba811f57c>\u001b[0m in \u001b[0;36mGEPP\u001b[1;34m(B)\u001b[0m\n\u001b[0;32m     25\u001b[0m             \u001b[0mm\u001b[0m \u001b[1;33m=\u001b[0m \u001b[0mB\u001b[0m\u001b[1;33m[\u001b[0m\u001b[0mi\u001b[0m\u001b[1;33m]\u001b[0m\u001b[1;33m[\u001b[0m\u001b[0mk\u001b[0m\u001b[1;33m]\u001b[0m\u001b[1;33m/\u001b[0m\u001b[0mB\u001b[0m\u001b[1;33m[\u001b[0m\u001b[0mk\u001b[0m\u001b[1;33m]\u001b[0m\u001b[1;33m[\u001b[0m\u001b[0mk\u001b[0m\u001b[1;33m]\u001b[0m\u001b[1;33m\u001b[0m\u001b[0m\n\u001b[0;32m     26\u001b[0m             \u001b[1;32mfor\u001b[0m \u001b[0mj\u001b[0m \u001b[1;32min\u001b[0m \u001b[0mrange\u001b[0m \u001b[1;33m(\u001b[0m\u001b[0mk\u001b[0m\u001b[1;33m+\u001b[0m\u001b[1;36m1\u001b[0m\u001b[1;33m,\u001b[0m\u001b[0mn\u001b[0m\u001b[1;33m)\u001b[0m\u001b[1;33m:\u001b[0m\u001b[1;33m\u001b[0m\u001b[0m\n\u001b[1;32m---> 27\u001b[1;33m                 \u001b[0mB\u001b[0m\u001b[1;33m[\u001b[0m\u001b[0mi\u001b[0m\u001b[1;33m]\u001b[0m\u001b[1;33m[\u001b[0m\u001b[0mj\u001b[0m\u001b[1;33m]\u001b[0m \u001b[1;33m=\u001b[0m \u001b[0mB\u001b[0m\u001b[1;33m[\u001b[0m\u001b[0mi\u001b[0m\u001b[1;33m]\u001b[0m\u001b[1;33m[\u001b[0m\u001b[0mj\u001b[0m\u001b[1;33m]\u001b[0m\u001b[1;33m-\u001b[0m\u001b[0mB\u001b[0m\u001b[1;33m[\u001b[0m\u001b[0mk\u001b[0m\u001b[1;33m]\u001b[0m\u001b[1;33m[\u001b[0m\u001b[0mj\u001b[0m\u001b[1;33m]\u001b[0m\u001b[1;33m*\u001b[0m\u001b[0mm\u001b[0m\u001b[1;33m\u001b[0m\u001b[0m\n\u001b[0m\u001b[0;32m     28\u001b[0m             \u001b[0mB\u001b[0m\u001b[1;33m[\u001b[0m\u001b[0mi\u001b[0m\u001b[1;33m]\u001b[0m\u001b[1;33m[\u001b[0m\u001b[0mk\u001b[0m\u001b[1;33m]\u001b[0m \u001b[1;33m=\u001b[0m \u001b[1;36m0\u001b[0m\u001b[1;33m\u001b[0m\u001b[0m\n",
      "\u001b[1;31mKeyboardInterrupt\u001b[0m: "
     ]
    }
   ],
   "source": [
    "x = np.arange(10,1000,10)\n",
    "y = []\n",
    "for k in range(10,1000,10):\n",
    "    y.append(growF(k))\n",
    "plt.plot(x,np.log(y))\n",
    "plt.xlabel('matrix size n')\n",
    "plt.ylabel('log (Growth Factor)')\n",
    "plt.show()"
   ]
  },
  {
   "cell_type": "markdown",
   "metadata": {},
   "source": [
    "If $g{\\approx}cn^\\alpha$, then $$\\log(g){\\approx}\\log(cn^\\alpha)=\\log(c)+\\alpha \\log(n)=C+\\alpha \\log(n)$$\n",
    "\n",
    "So, $\\alpha$ is the slope of $\\log(g)$ vs $\\log(n)$ plot.\n",
    "\n",
    "Now, plot $\\log(g)$ vs $\\log(n)$ to find a approximated $\\alpha$"
   ]
  },
  {
   "cell_type": "code",
   "execution_count": 24,
   "metadata": {},
   "outputs": [
    {
     "data": {
      "image/png": "[encoded data removed]",
      "text/plain": [
       "<matplotlib.figure.Figure at 0x1dde4bafba8>"
      ]
     },
     "metadata": {},
     "output_type": "display_data"
    }
   ],
   "source": [
    "x = np.arange(10,500,10)\n",
    "z = np.log(x)\n",
    "y = []\n",
    "for k in range(10,500,10):\n",
    "    y.append(growF(k))\n",
    "plt.plot(z,np.log(y))\n",
    "plt.plot(z,z-np.log(10))\n",
    "plt.xlabel('log (n)')\n",
    "plt.ylabel('log (Growth Factor)')\n",
    "plt.show()"
   ]
  },
  {
   "cell_type": "markdown",
   "metadata": {},
   "source": [
    "We clearly see that $\\alpha$ is less than 1.\n",
    "\n",
    "So, $cn^\\alpha<cn$.\n",
    "Compare this with the worst case scenario $g{\\approx}2^n$, since $n<2^n$ we see this estimation is better."
   ]
  },
  {
   "cell_type": "markdown",
   "metadata": {},
   "source": [
    "# Question 5 - Probability distribution of the growth factor for a fixed n"
   ]
  },
  {
   "cell_type": "markdown",
   "metadata": {},
   "source": [
    "CASE 1 : n = 10"
   ]
  },
  {
   "cell_type": "code",
   "execution_count": 13,
   "metadata": {},
   "outputs": [
    {
     "data": {
      "image/png": "[encoded data removed]",
      "text/plain": [
       "<matplotlib.figure.Figure at 0x22f0104bf28>"
      ]
     },
     "metadata": {},
     "output_type": "display_data"
    }
   ],
   "source": [
    "n = 10\n",
    "y = []\n",
    "for x in range (0,1000):\n",
    "    y.append(growF(n))\n",
    "plt.hist(y ,bins=40)\n",
    "plt.title('Growh factor for a fixed n = 10')\n",
    "plt.yscale('log')\n",
    "plt.xlabel('Growth Factor')\n",
    "plt.ylabel('log(Frecuency)')\n",
    "plt.show()"
   ]
  },
  {
   "cell_type": "markdown",
   "metadata": {},
   "source": [
    "Case 2 : n = 16"
   ]
  },
  {
   "cell_type": "code",
   "execution_count": 14,
   "metadata": {},
   "outputs": [
    {
     "data": {
      "image/png": "[encoded data removed]",
      "text/plain": [
       "<matplotlib.figure.Figure at 0x22f015889b0>"
      ]
     },
     "metadata": {},
     "output_type": "display_data"
    }
   ],
   "source": [
    "n = 16\n",
    "y = []\n",
    "for x in range (0,1000):\n",
    "    y.append(growF(n))\n",
    "plt.hist(y ,bins=40)\n",
    "plt.title('Growh factor for a fixed n = 16')\n",
    "plt.yscale('log')\n",
    "plt.xlabel('Growth Factor')\n",
    "plt.ylabel('log(Frecuency)')\n",
    "plt.show()"
   ]
  },
  {
   "cell_type": "markdown",
   "metadata": {},
   "source": [
    "Case 3 : n = 20, 40, 80"
   ]
  },
  {
   "cell_type": "code",
   "execution_count": 15,
   "metadata": {},
   "outputs": [
    {
     "data": {
      "image/png": "[encoded data removed]",
      "text/plain": [
       "<matplotlib.figure.Figure at 0x22f01712940>"
      ]
     },
     "metadata": {},
     "output_type": "display_data"
    }
   ],
   "source": [
    "n = 20\n",
    "y = []\n",
    "for x in range (0,1000):\n",
    "    y.append(growF(n))\n",
    "plt.hist(y ,bins=40)\n",
    "plt.title('Growh factor for a fixed n = 20')\n",
    "plt.yscale('log')\n",
    "plt.xlabel('Growth Factor')\n",
    "plt.ylabel('log(Frecuency)')\n",
    "plt.show()"
   ]
  },
  {
   "cell_type": "code",
   "execution_count": null,
   "metadata": {},
   "outputs": [
    {
     "data": {
      "image/png": "[encoded data removed]",
      "text/plain": [
       "<matplotlib.figure.Figure at 0x22f01512278>"
      ]
     },
     "metadata": {},
     "output_type": "display_data"
    }
   ],
   "source": [
    "n = 40\n",
    "y = []\n",
    "for x in range (0,1000):\n",
    "    y.append(growF(n))\n",
    "plt.hist(y ,bins=40)\n",
    "plt.title('Growh factor for a fixed n = 40')\n",
    "plt.yscale('log')\n",
    "plt.xlabel('Growth Factor')\n",
    "plt.ylabel('log(Frecuency)')\n",
    "plt.show()"
   ]
  },
  {
   "cell_type": "code",
   "execution_count": 37,
   "metadata": {},
   "outputs": [
    {
     "data": {
      "image/png": "[encoded data removed]",
      "text/plain": [
       "<matplotlib.figure.Figure at 0x1dde4b44cc0>"
      ]
     },
     "metadata": {},
     "output_type": "display_data"
    }
   ],
   "source": [
    "n = 80\n",
    "y = []\n",
    "for x in range (0,1000):\n",
    "    y.append(growF(n))\n",
    "plt.hist(y ,bins=40)\n",
    "plt.title('Growh factor for a fixed n = 80')\n",
    "plt.yscale('log')\n",
    "plt.xlabel('Growth Factor')\n",
    "plt.ylabel('log(Frecuency)')\n",
    "plt.show()"
   ]
  },
  {
   "cell_type": "markdown",
   "metadata": {},
   "source": [
    "The plot generally follows a right skewed standard deviation plot.\n",
    "Changing n, size of matrix doesn't really affect the shape of plot, but it affects the spread of growth factor.\n",
    "For n = 10, the growth factor ranges from 1.5 to 4.5, while for n = 40, the growth factor ranges from 4 to 16.\n",
    "From this experiment, we can deduce that increasing size of matrix not only increases growth factor, but also increases range of growth factors."
   ]
  },
  {
   "cell_type": "markdown",
   "metadata": {},
   "source": [
    "# Question 6 - Repeat Q4, 5 for matrices whose entries are random numbers with a normal distribution"
   ]
  },
  {
   "cell_type": "markdown",
   "metadata": {},
   "source": [
    "I picked the parameters ($\\mu$ and $\\sigma$) at my convenience.\n",
    "$\\mu = 3$ and $\\sigma^2 =1$"
   ]
  },
  {
   "cell_type": "code",
   "execution_count": 26,
   "metadata": {},
   "outputs": [],
   "source": [
    "mu = 3\n",
    "sigma = 1\n",
    "def newGenerateMat(n):\n",
    "    A = np.random.normal(mu,sigma,(n,n))\n",
    "    return A"
   ]
  },
  {
   "cell_type": "markdown",
   "metadata": {},
   "source": [
    "Test generating matrix with above entries.\n",
    "\n",
    "Case : $n = 5$"
   ]
  },
  {
   "cell_type": "code",
   "execution_count": 27,
   "metadata": {},
   "outputs": [
    {
     "data": {
      "text/plain": [
       "array([[3.60702066, 4.12412549, 1.90820881, 4.42113217, 5.14641438],\n",
       "       [3.15032748, 2.29770698, 4.93074458, 2.76351201, 1.41389187],\n",
       "       [3.03545302, 3.54667478, 3.62208976, 3.90633076, 2.63030007],\n",
       "       [2.38657748, 2.57274829, 2.89373873, 4.49202398, 4.87053026],\n",
       "       [2.55253375, 4.42659184, 2.43976921, 5.10087916, 1.46944917]])"
      ]
     },
     "execution_count": 27,
     "metadata": {},
     "output_type": "execute_result"
    }
   ],
   "source": [
    "newGenerateMat(5)"
   ]
  },
  {
   "cell_type": "code",
   "execution_count": 28,
   "metadata": {},
   "outputs": [],
   "source": [
    "#Growth Factor function with parameter n\n",
    "def newGrowF(n):\n",
    "    B = newGenerateMat(n)\n",
    "    a = abs(B).max()\n",
    "    GEPP(B)\n",
    "    u = abs(B).max()\n",
    "    g = u/a\n",
    "    return g"
   ]
  },
  {
   "cell_type": "code",
   "execution_count": 29,
   "metadata": {},
   "outputs": [
    {
     "data": {
      "text/plain": [
       "1.0"
      ]
     },
     "execution_count": 29,
     "metadata": {},
     "output_type": "execute_result"
    }
   ],
   "source": [
    "newGrowF(4)"
   ]
  },
  {
   "cell_type": "markdown",
   "metadata": {},
   "source": [
    "# Plotting growth factor vs matrix size"
   ]
  },
  {
   "cell_type": "code",
   "execution_count": null,
   "metadata": {},
   "outputs": [],
   "source": [
    "x = np.arange(10,200,10)\n",
    "z = np.log(x)\n",
    "y = []\n",
    "for k in range(10,200,10):\n",
    "    y.append(newGrowF(k))\n",
    "plt.plot(z,np.log(y))\n",
    "plt.plot(z,z)\n",
    "plt.xlabel('log (n)')\n",
    "plt.ylabel('log (Growth Factor)')\n",
    "plt.show()"
   ]
  },
  {
   "cell_type": "markdown",
   "metadata": {},
   "source": [
    "# Plotting Histogram"
   ]
  },
  {
   "cell_type": "markdown",
   "metadata": {},
   "source": [
    "CASE : $n = 10, 16, 20, 40, 80$"
   ]
  },
  {
   "cell_type": "code",
   "execution_count": 30,
   "metadata": {},
   "outputs": [
    {
     "data": {
      "image/png": "[encoded data removed]",
      "text/plain": [
       "<matplotlib.figure.Figure at 0x1dde4bc6160>"
      ]
     },
     "metadata": {},
     "output_type": "display_data"
    }
   ],
   "source": [
    "n = 10\n",
    "y = []\n",
    "for x in range (0,1000):\n",
    "    y.append(newGrowF(n))\n",
    "plt.hist(y ,bins=40)\n",
    "plt.title('New Growh factor for a fixed n = 10')\n",
    "plt.yscale('log')\n",
    "plt.xlabel('Growth Factor')\n",
    "plt.ylabel('log(Frecuency)')\n",
    "plt.show()"
   ]
  },
  {
   "cell_type": "code",
   "execution_count": 31,
   "metadata": {},
   "outputs": [
    {
     "data": {
      "image/png": "[encoded data removed]",
      "text/plain": [
       "<matplotlib.figure.Figure at 0x1dde4d2b320>"
      ]
     },
     "metadata": {},
     "output_type": "display_data"
    }
   ],
   "source": [
    "n = 16\n",
    "y = []\n",
    "for x in range (0,1000):\n",
    "    y.append(newGrowF(n))\n",
    "plt.hist(y ,bins=40)\n",
    "plt.title('New Growh factor for a fixed n = 16')\n",
    "plt.yscale('log')\n",
    "plt.xlabel('Growth Factor')\n",
    "plt.ylabel('log(Frecuency)')\n",
    "plt.show()"
   ]
  },
  {
   "cell_type": "code",
   "execution_count": 32,
   "metadata": {},
   "outputs": [
    {
     "data": {
      "image/png": "[encoded data removed]",
      "text/plain": [
       "<matplotlib.figure.Figure at 0x1dde4b1d940>"
      ]
     },
     "metadata": {},
     "output_type": "display_data"
    }
   ],
   "source": [
    "n = 20\n",
    "y = []\n",
    "for x in range (0,1000):\n",
    "    y.append(newGrowF(n))\n",
    "plt.hist(y ,bins=40)\n",
    "plt.title('New Growh factor for a fixed n = 20')\n",
    "plt.yscale('log')\n",
    "plt.xlabel('Growth Factor')\n",
    "plt.ylabel('log(Frecuency)')\n",
    "plt.show()"
   ]
  },
  {
   "cell_type": "code",
   "execution_count": 33,
   "metadata": {},
   "outputs": [
    {
     "data": {
      "image/png": "[encoded data removed]",
      "text/plain": [
       "<matplotlib.figure.Figure at 0x1dde4674f60>"
      ]
     },
     "metadata": {},
     "output_type": "display_data"
    }
   ],
   "source": [
    "n = 40\n",
    "y = []\n",
    "for x in range (0,1000):\n",
    "    y.append(newGrowF(n))\n",
    "plt.hist(y ,bins=40)\n",
    "plt.title('New Growh factor for a fixed n = 40')\n",
    "plt.yscale('log')\n",
    "plt.xlabel('Growth Factor')\n",
    "plt.ylabel('log(Frecuency)')\n",
    "plt.show()"
   ]
  },
  {
   "cell_type": "code",
   "execution_count": 35,
   "metadata": {},
   "outputs": [
    {
     "data": {
      "image/png": "[encoded data removed]",
      "text/plain": [
       "<matplotlib.figure.Figure at 0x1dde46e7358>"
      ]
     },
     "metadata": {},
     "output_type": "display_data"
    }
   ],
   "source": [
    "n = 80\n",
    "y = []\n",
    "for x in range (0,1000):\n",
    "    y.append(newGrowF(n))\n",
    "plt.hist(y ,bins=40)\n",
    "plt.title('New Growh factor for a fixed n = 80')\n",
    "plt.yscale('log')\n",
    "plt.xlabel('Growth Factor')\n",
    "plt.ylabel('log(Frecuency)')\n",
    "plt.show()"
   ]
  },
  {
   "cell_type": "markdown",
   "metadata": {},
   "source": [
    "The plot generally follows a right skewed standard deviation plot. Just like previous case, changing n, size of matrix doesn't really affect the shape of plot, but it affects the spread of growth factor.\n",
    "For n = 10, the growth factor ranges from 0.6 to 1.8 while for n = 40, the growth factor ranges from 1.5 to 5.\n",
    "\n",
    "Another interesing point can be found when comparing this plot with the one with uniformly distributed entries.\n",
    "If we look at the range of growth factor for two plots, plot with uniformly distributed entries has wider range for fixed n. \n",
    "\n",
    "From above, we can deduce that the distribution of entries can also affect value and range of growth factor."
   ]
  },
  {
   "cell_type": "markdown",
   "metadata": {},
   "source": [
    "To see how the spread of entries can affect the growth factor, we are going to change $\\mu$ and $\\sigma$.\n",
    "\n",
    "This time, we are going to take $\\mu = 3$ and $\\sigma = 10$"
   ]
  },
  {
   "cell_type": "code",
   "execution_count": 62,
   "metadata": {},
   "outputs": [
    {
     "data": {
      "image/png": "[encoded data removed]",
      "text/plain": [
       "<matplotlib.figure.Figure at 0x1dde4691cf8>"
      ]
     },
     "metadata": {},
     "output_type": "display_data"
    }
   ],
   "source": [
    "y = np.random.normal(3,1,1000)\n",
    "plt.hist(y ,bins='auto')\n",
    "plt.title('Histogram for $\\mu = 3$ and $\\sigma = 1$')\n",
    "plt.xlabel('Entries')\n",
    "plt.ylabel('Frecuency')\n",
    "plt.show()"
   ]
  },
  {
   "cell_type": "code",
   "execution_count": 63,
   "metadata": {},
   "outputs": [
    {
     "data": {
      "image/png": "[encoded data removed]",
      "text/plain": [
       "<matplotlib.figure.Figure at 0x1dde4b94eb8>"
      ]
     },
     "metadata": {},
     "output_type": "display_data"
    }
   ],
   "source": [
    "y = np.random.normal(3,10,1000)\n",
    "plt.hist(y ,bins='auto')\n",
    "plt.title('Histogram for $\\mu = 3$ and $\\sigma = 10$')\n",
    "plt.xlabel('Entries')\n",
    "plt.ylabel('Frecuency')\n",
    "plt.show()"
   ]
  },
  {
   "cell_type": "markdown",
   "metadata": {},
   "source": [
    "As we observe from above two histograms, changing the variance of a normally distributed entry doesn't affect the general shape of plots. However, the second plot with larger variance has larger range for entries, which means that the entries are more spread for larger variance. "
   ]
  },
  {
   "cell_type": "code",
   "execution_count": 59,
   "metadata": {},
   "outputs": [],
   "source": [
    "mu = 3\n",
    "sigma = 10"
   ]
  },
  {
   "cell_type": "code",
   "execution_count": 60,
   "metadata": {},
   "outputs": [
    {
     "data": {
      "image/png": "[encoded data removed]",
      "text/plain": [
       "<matplotlib.figure.Figure at 0x1dde473f048>"
      ]
     },
     "metadata": {},
     "output_type": "display_data"
    }
   ],
   "source": [
    "y = []\n",
    "for x in range (0,1000):\n",
    "    y.append(newGrowF(n))\n",
    "plt.hist(y ,bins=40)\n",
    "plt.title('New Growh factor for a fixed n = 20')\n",
    "plt.yscale('log')\n",
    "plt.xlabel('Growth Factor')\n",
    "plt.ylabel('log(Frecuency)')\n",
    "plt.show()"
   ]
  },
  {
   "cell_type": "code",
   "execution_count": 61,
   "metadata": {},
   "outputs": [
    {
     "data": {
      "image/png": "[encoded data removed]",
      "text/plain": [
       "<matplotlib.figure.Figure at 0x1dde4cc30f0>"
      ]
     },
     "metadata": {},
     "output_type": "display_data"
    }
   ],
   "source": [
    "n = 40\n",
    "y = []\n",
    "for x in range (0,1000):\n",
    "    y.append(newGrowF(n))\n",
    "plt.hist(y ,bins=40)\n",
    "plt.title('New Growh factor for a fixed n = 40')\n",
    "plt.yscale('log')\n",
    "plt.xlabel('Growth Factor')\n",
    "plt.ylabel('log(Frecuency)')\n",
    "plt.show()"
   ]
  },
  {
   "cell_type": "markdown",
   "metadata": {},
   "source": [
    "Above two plots are result for the new distributed entries with $\\mu = 3$ and $\\sigma = 10$. If we compare each plot with corresponding plot made by entries with $\\mu = 3$ and $\\sigma = 1$, we can clearly see the growth factor is more spread for above two. For $n=20$, the range of growth factor is 1 to 5 for $\\sigma = 10$ while it is 0.5 to 3.5 for $\\sigma = 1$. Also, the range of growth factor is 1 to 10 for $\\sigma = 10$ while it is 1 to 4 for $\\sigma = 1$ for $n=40$. Thus, we can conclude that if entries are more spread (i.e, the range of entries are larger), the growth factor is larger and the range that growth factor can take is also larger."
   ]
  },
  {
   "cell_type": "code",
   "execution_count": null,
   "metadata": {},
   "outputs": [],
   "source": []
  }
 ],
 "metadata": {
  "kernelspec": {
   "display_name": "Python 3",
   "language": "python",
   "name": "python3"
  },
  "language_info": {
   "codemirror_mode": {
    "name": "ipython",
    "version": 3
   },
   "file_extension": ".py",
   "mimetype": "text/x-python",
   "name": "python",
   "nbconvert_exporter": "python",
   "pygments_lexer": "ipython3",
   "version": "3.6.4"
  }
 },
 "nbformat": 4,
 "nbformat_minor": 2
}
